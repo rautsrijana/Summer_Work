{
 "cells": [
  {
   "cell_type": "code",
   "execution_count": null,
   "id": "df3ee3c0",
   "metadata": {},
   "outputs": [],
   "source": [
    "from csv import DictReader\n",
    "import re\n",
    "\n",
    "def process(text):\n",
    "    newText = re.sub(r'\\([^\\(\\)]+\\) ?','',text)\n",
    "    newText = re.sub(r'\\[[^\\[\\]]+\\] ?','',newText)\n",
    "    newText = re.sub(r'\"\"','\"',newText)\n",
    "    return newText\n",
    "\n",
    "with open('ted_talks_en.csv') as source1:\n",
    "    with open('transcripts.csv') as source2:\n",
    "        with open('output.txt', 'w') as output:\n",
    "            reader1 = DictReader(source1)\n",
    "            for entry in reader1:\n",
    "                transcript = entry['transcript']\n",
    "                transcript = process(transcript)\n",
    "                output.write(transcript)\n",
    "                output.write('\\n<End of Text>\\n')\n",
    "                reader2 = DictReader(source2)\n",
    "            for entry in reader2:\n",
    "                transcript = entry['transcript']\n",
    "                transcript = process(transcript)\n",
    "                output.write(transcript)\n",
    "                output.write('\\n<End of Text>\\n')\n"
   ]
  }
 ],
 "metadata": {
  "kernelspec": {
   "display_name": "Python 3 (ipykernel)",
   "language": "python",
   "name": "python3"
  },
  "language_info": {
   "codemirror_mode": {
    "name": "ipython",
    "version": 3
   },
   "file_extension": ".py",
   "mimetype": "text/x-python",
   "name": "python",
   "nbconvert_exporter": "python",
   "pygments_lexer": "ipython3",
   "version": "3.10.9"
  }
 },
 "nbformat": 4,
 "nbformat_minor": 5
}
