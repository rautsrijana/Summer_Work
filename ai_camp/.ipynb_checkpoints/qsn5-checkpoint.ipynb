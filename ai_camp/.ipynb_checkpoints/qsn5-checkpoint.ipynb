{
 "cells": [
  {
   "cell_type": "markdown",
   "metadata": {
    "id": "ki9ULcRsNnJl"
   },
   "source": [
    "### Qsn 5 - Python implementation: a support vector machine for less than 50 data points.Use sigmoid function to decide."
   ]
  },
  {
   "cell_type": "code",
   "execution_count": 1,
   "metadata": {
    "id": "E335RPJnLWt0"
   },
   "outputs": [],
   "source": [
    "import numpy as np \n",
    "import pandas as pd \n",
    "import matplotlib.pyplot as plt \n",
    "from sklearn.model_selection import train_test_split\n",
    "from sklearn import metrics\n",
    "import sklearn.svm as svm"
   ]
  },
  {
   "cell_type": "code",
   "execution_count": 2,
   "metadata": {
    "id": "_9pmT8GCLZdq"
   },
   "outputs": [],
   "source": [
    "def generate_dataset(num_samples):\n",
    "    \"\"\"\n",
    "    Generates a dataset with random feature values and labels.\n",
    "    \n",
    "    Args:\n",
    "        num_samples (int): The number of samples to generate for each class.\n",
    "        \n",
    "    Returns:\n",
    "        pd.DataFrame: The generated dataset with shuffled samples.\n",
    "    \"\"\"\n",
    "    # Generate random data for class 1\n",
    "    class_1 = np.random.randint([50, 18], [149, 50], (num_samples, 2))\n",
    "    \n",
    "    # Generate random data for class 2\n",
    "    class_2 = np.random.randint([53, 35], [243, 120], (num_samples, 2))\n",
    "    \n",
    "    # Create DataFrame for class 1 with feature columns and label column\n",
    "    df_class_1 = pd.DataFrame(class_1, columns=['feature1', 'feature2'])\n",
    "    df_class_1[\"label\"] = [0 for _ in range(num_samples)]\n",
    "    \n",
    "    # Create DataFrame for class 2 with feature columns and label column\n",
    "    df_class_2 = pd.DataFrame(class_2, columns=['feature1', 'feature2'])\n",
    "    df_class_2[\"label\"] = [1 for _ in range(num_samples)]\n",
    "    \n",
    "    # Concatenate the two class DataFrames\n",
    "    df = pd.concat([df_class_1, df_class_2])\n",
    "    \n",
    "    # Shuffle the dataset\n",
    "    df = df.sample(frac=1).reset_index(drop=True)\n",
    "    \n",
    "    return df\n",
    "\n"
   ]
  },
  {
   "cell_type": "code",
   "execution_count": 3,
   "metadata": {
    "colab": {
     "base_uri": "https://localhost:8080/"
    },
    "id": "iYaw15pHLjLv",
    "outputId": "029714a9-df03-4101-8c54-16755770d256"
   },
   "outputs": [
    {
     "name": "stdout",
     "output_type": "stream",
     "text": [
      "    feature1  feature2  label\n",
      "0        116        36      0\n",
      "1        200       101      1\n",
      "2         98        30      0\n",
      "3         78        23      0\n",
      "4        128        65      1\n",
      "5        163       119      1\n",
      "6         75       113      1\n",
      "7         79       114      1\n",
      "8        237        99      1\n",
      "9         75        77      1\n",
      "10        70        95      1\n",
      "11       230        52      1\n",
      "12        74        21      0\n",
      "13       192        50      1\n",
      "14       125        28      0\n",
      "15        94        31      0\n",
      "16       139       115      1\n",
      "17       173        89      1\n",
      "18        59        25      0\n",
      "19        97        48      0\n",
      "20       165        68      1\n",
      "21        66        47      0\n",
      "22       129        47      0\n",
      "23        96        48      1\n",
      "24       141        96      1\n",
      "25       121        50      1\n",
      "26       105        24      0\n",
      "27        95        41      1\n",
      "28        67        44      0\n",
      "29       121       104      1\n",
      "30       120        43      0\n",
      "31       140        20      0\n",
      "32       139       103      1\n",
      "33       106        41      0\n",
      "34        72        31      0\n",
      "35       119        98      1\n",
      "36       132        45      0\n",
      "37       141        55      1\n",
      "38       130        40      0\n",
      "39        83        58      1\n",
      "40       118        43      0\n",
      "41        74        39      0\n",
      "42        83        33      0\n",
      "43       241        48      1\n",
      "44        59        45      0\n",
      "45       116        35      0\n",
      "46       137        26      0\n",
      "47        64        18      0\n",
      "48       208       111      1\n",
      "49       161        56      1\n"
     ]
    }
   ],
   "source": [
    "# Calling the function\n",
    "dataset = generate_dataset(num_samples=25)\n",
    "print(dataset)"
   ]
  },
  {
   "cell_type": "code",
   "execution_count": 4,
   "metadata": {
    "id": "9chUtjU-Ll3t"
   },
   "outputs": [],
   "source": [
    "def visualize_data(df):\n",
    "    \"\"\"\n",
    "    Visualizes the data scatter plot based on the provided DataFrame.\n",
    "    \n",
    "    Args:\n",
    "        df (pd.DataFrame): The DataFrame containing the data to visualize.\n",
    "    \"\"\"\n",
    "    # Plot class 0\n",
    "    plt.scatter(df[df[\"label\"] == 0]['feature1'], df[df[\"label\"] == 0]['feature2'], label='Class 0')\n",
    "    \n",
    "    # Plot class 1\n",
    "    plt.scatter(df[df[\"label\"] == 1]['feature1'], df[df[\"label\"] == 1]['feature2'], label='Class 1')\n",
    "    \n",
    "    # Set labels for x-axis and y-axis\n",
    "    plt.xlabel(\"feature1\")\n",
    "    plt.ylabel(\"feature2\")\n",
    "    \n",
    "    # Show the legend\n",
    "    plt.legend()\n",
    "    \n",
    "    # Display the plot\n",
    "    plt.show()\n",
    "\n"
   ]
  },
  {
   "cell_type": "code",
   "execution_count": 5,
   "metadata": {
    "colab": {
     "base_uri": "https://localhost:8080/",
     "height": 449
    },
    "id": "r3G2p9NbL4q0",
    "outputId": "d67551c3-46b5-44a9-f723-7c1807ebd8a9"
   },
   "outputs": [
    {
     "data": {
      "image/png": "[encoded data removed]",
      "text/plain": [
       "<Figure size 640x480 with 1 Axes>"
      ]
     },
     "metadata": {},
     "output_type": "display_data"
    }
   ],
   "source": [
    "# Calling function\n",
    "visualize_data(dataset)\n"
   ]
  },
  {
   "cell_type": "code",
   "execution_count": 6,
   "metadata": {
    "id": "ciggPJjLL68g"
   },
   "outputs": [],
   "source": [
    "def split_train_test(df, test_size=0.2, random_state=None):\n",
    "    \"\"\"\n",
    "    Splits the provided DataFrame into training and testing datasets.\n",
    "    \n",
    "    Args:\n",
    "        df (pd.DataFrame): The DataFrame to be split.\n",
    "        test_size (float): The proportion of the dataset to include in the test split. (default: 0.2)\n",
    "        random_state (int or None): Random state to ensure reproducibility. (default: None)\n",
    "        \n",
    "    Returns:\n",
    "        tuple: A tuple containing the training dataset and testing dataset.\n",
    "    \"\"\"\n",
    "    # Split the dataset into training and testing\n",
    "    train, test = train_test_split(df, test_size=test_size, random_state=random_state)\n",
    "    \n",
    "    # Extract features and labels for the training dataset\n",
    "    X_train = train.iloc[:, :2]\n",
    "    Y_train = train.iloc[:, -1]\n",
    "    \n",
    "    # Extract features and labels for the testing dataset\n",
    "    X_test = test.iloc[:, :2]\n",
    "    Y_test = test.iloc[:, -1]\n",
    "    \n",
    "    return X_train, Y_train, X_test, Y_test\n",
    "\n",
    "\n"
   ]
  },
  {
   "cell_type": "code",
   "execution_count": 7,
   "metadata": {
    "id": "ss95cRJUM2HD"
   },
   "outputs": [],
   "source": [
    "# Calling the function\n",
    "X_train, Y_train, X_test, Y_test = split_train_test(dataset, test_size=0.2, random_state=42)"
   ]
  },
  {
   "cell_type": "code",
   "execution_count": 8,
   "metadata": {
    "id": "4Bwf4I0iMt4B"
   },
   "outputs": [],
   "source": [
    "from sklearn import svm\n",
    "\n",
    "def train_svm(X_train, Y_train, max_iter=10000):\n",
    "    \"\"\"\n",
    "    Trains a Linear Support Vector Machine (SVM) model using the provided training data.\n",
    "    \n",
    "    Args:\n",
    "        X_train (pd.DataFrame or np.array): The features of the training data.\n",
    "        Y_train (pd.Series or np.array): The labels of the training data.\n",
    "        max_iter (int): Maximum number of iterations for the SVM model. (default: 10000)\n",
    "        \n",
    "    Returns:\n",
    "        sklearn.svm.classes.LinearSVC: The trained LinearSVC model.\n",
    "    \"\"\"\n",
    "    # Initialize the LinearSVC model\n",
    "    model = svm.LinearSVC(max_iter=max_iter)\n",
    "    \n",
    "    # Fit the model to the training data\n",
    "    model.fit(X_train, Y_train)\n",
    "    \n",
    "    return model\n",
    "\n",
    "\n"
   ]
  },
  {
   "cell_type": "code",
   "execution_count": 9,
   "metadata": {
    "colab": {
     "base_uri": "https://localhost:8080/"
    },
    "id": "kIEkbJDyM6Jt",
    "outputId": "25ad3921-6319-4f8d-ea9d-3fafe2530a6e"
   },
   "outputs": [
    {
     "name": "stderr",
     "output_type": "stream",
     "text": [
      "/usr/local/lib/python3.10/dist-packages/sklearn/svm/_base.py:1244: ConvergenceWarning: Liblinear failed to converge, increase the number of iterations.\n",
      "  warnings.warn(\n"
     ]
    }
   ],
   "source": [
    "# Calling the function\n",
    "svm_model = train_svm(X_train, Y_train)"
   ]
  },
  {
   "cell_type": "code",
   "execution_count": 10,
   "metadata": {
    "id": "IFvaj2xrNJPc"
   },
   "outputs": [],
   "source": [
    "def predict_svm(est, X_test):\n",
    "    \"\"\"\n",
    "    Predicts labels using a trained Linear Support Vector Machine (SVM) model.\n",
    "    \n",
    "    Args:\n",
    "        est (sklearn.svm.classes.LinearSVC): The trained LinearSVC model.\n",
    "        X_test (pd.DataFrame or np.array): The features of the testing data.\n",
    "        \n",
    "    Returns:\n",
    "        np.array: The predicted labels for the testing data.\n",
    "    \"\"\"\n",
    "    # Make predictions using the trained model\n",
    "    Y_pred = est.predict(X_test)\n",
    "    \n",
    "    return Y_pred\n",
    "\n",
    "\n"
   ]
  },
  {
   "cell_type": "code",
   "execution_count": 11,
   "metadata": {
    "id": "vACAZyG5NLG9"
   },
   "outputs": [],
   "source": [
    "# calling the function\n",
    "Y_pred = predict_svm(svm_model, X_test)"
   ]
  },
  {
   "cell_type": "code",
   "execution_count": 12,
   "metadata": {
    "id": "XbVUYmLdNON0"
   },
   "outputs": [],
   "source": [
    "\n",
    "\n",
    "def evaluate_model(Y_test, Y_pred):\n",
    "    \"\"\"\n",
    "    Evaluates the performance of a classification model using various metrics.\n",
    "    \n",
    "    Args:\n",
    "        Y_test (pd.Series or np.array): The true labels of the testing data.\n",
    "        Y_pred (pd.Series or np.array): The predicted labels of the testing data.\n",
    "    \"\"\"\n",
    "    # Calculate and print the accuracy of the model\n",
    "    accuracy = metrics.accuracy_score(Y_test, Y_pred)\n",
    "    print(\"Accuracy of the model:\", accuracy)\n",
    "    \n",
    "    # Calculate and print the precision of the model\n",
    "    precision = metrics.precision_score(Y_test, Y_pred)\n",
    "    print(\"Precision of the model:\", precision)\n",
    "    \n",
    "    # Calculate and print the confusion matrix\n",
    "    confusion_matrix = metrics.confusion_matrix(Y_test, Y_pred)\n",
    "    print(\"Confusion Matrix:\\n\", confusion_matrix)\n",
    "\n",
    "\n"
   ]
  },
  {
   "cell_type": "code",
   "execution_count": 13,
   "metadata": {
    "colab": {
     "base_uri": "https://localhost:8080/"
    },
    "id": "zZAIRAG6NWBq",
    "outputId": "87c17196-efe0-4122-988c-96e33bda13d9"
   },
   "outputs": [
    {
     "name": "stdout",
     "output_type": "stream",
     "text": [
      "Accuracy of the model: 0.7\n",
      "Precision of the model: 1.0\n",
      "Confusion Matrix:\n",
      " [[4 0]\n",
      " [3 3]]\n"
     ]
    }
   ],
   "source": [
    "# calling the function\n",
    "evaluate_model(Y_test, Y_pred)"
   ]
  }
 ],
 "metadata": {
  "colab": {
   "provenance": []
  },
  "kernelspec": {
   "display_name": "Python 3 (ipykernel)",
   "language": "python",
   "name": "python3"
  },
  "language_info": {
   "codemirror_mode": {
    "name": "ipython",
    "version": 3
   },
   "file_extension": ".py",
   "mimetype": "text/x-python",
   "name": "python",
   "nbconvert_exporter": "python",
   "pygments_lexer": "ipython3",
   "version": "3.11.2"
  }
 },
 "nbformat": 4,
 "nbformat_minor": 1
}
