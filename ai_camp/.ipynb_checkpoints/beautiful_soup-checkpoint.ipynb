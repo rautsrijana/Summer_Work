{
 "cells": [
  {
   "cell_type": "code",
   "execution_count": 1,
   "id": "09d0857a",
   "metadata": {},
   "outputs": [
    {
     "name": "stdout",
     "output_type": "stream",
     "text": [
      "Extracting data from: https://www.smore.com/3pdhf\n",
      "Extracting data from: http://bedfordjfhs.sharpschool.net/\n",
      "Extracting data from: http://blcschs.ss19.sharpschool.com\n",
      "Data extracted and saved to: beautiful_soup_staff_info.csv\n"
     ]
    }
   ],
   "source": [
    "import requests\n",
    "from bs4 import BeautifulSoup\n",
    "import csv\n",
    "\n",
    "def extract_staff_info(url):\n",
    "    response = requests.get(url)\n",
    "    soup = BeautifulSoup(response.content, \"html.parser\")\n",
    "\n",
    "    for style in soup.find_all('style'):\n",
    "        style.decompose()\n",
    "\n",
    "    for script in soup.find_all('script'):\n",
    "        script.decompose()\n",
    "\n",
    "    staff_data = []\n",
    "    for element in soup.find_all(['a', 'p', 'span']):\n",
    "        email = element.get('href')\n",
    "        if email and email.startswith('mailto:'):\n",
    "            email = email[7:]  # Remove 'mailto:' prefix\n",
    "            name = element.get_text().strip()\n",
    "            staff_data.append({'Name': name, 'Email': email})\n",
    "\n",
    "    return staff_data\n",
    "\n",
    "def save_to_csv(data, filename):\n",
    "    keys = data[0].keys()\n",
    "    with open(filename, 'w', newline='', encoding='utf-8') as file:\n",
    "        writer = csv.DictWriter(file, fieldnames=keys)\n",
    "        writer.writeheader()\n",
    "        writer.writerows(data)\n",
    "\n",
    "def process_school_websites(urls):\n",
    "    extracted_data = []\n",
    "    for url in urls:\n",
    "        print(f\"Extracting data from: {url}\")\n",
    "        staff_info = extract_staff_info(url)\n",
    "        extracted_data.extend(staff_info)\n",
    "\n",
    "    output_file = 'beautiful_soup_staff_info.csv'\n",
    "    save_to_csv(extracted_data, output_file)\n",
    "    print(f\"Data extracted and saved to: {output_file}\")\n",
    "\n",
    "# List of URLs of school websites to extract data from\n",
    "school_urls = [\n",
    "    \"https://www.smore.com/3pdhf\",\n",
    "    \"https://bedfordjfhs.sharpschool.net/our_staff/staff_directory\"\n",
    "#     \"http://blcschs.ss19.sharpschool.com\"\n",
    "\n",
    "    # Add more URLs here\n",
    "]\n",
    "\n",
    "process_school_websites(school_urls)\n"
   ]
  },
  {
   "cell_type": "code",
   "execution_count": null,
   "id": "b8edf42a",
   "metadata": {},
   "outputs": [],
   "source": []
  }
 ],
 "metadata": {
  "kernelspec": {
   "display_name": "Python 3 (ipykernel)",
   "language": "python",
   "name": "python3"
  },
  "language_info": {
   "codemirror_mode": {
    "name": "ipython",
    "version": 3
   },
   "file_extension": ".py",
   "mimetype": "text/x-python",
   "name": "python",
   "nbconvert_exporter": "python",
   "pygments_lexer": "ipython3",
   "version": "3.10.11"
  }
 },
 "nbformat": 4,
 "nbformat_minor": 5
}
